{
 "cells": [
  {
   "cell_type": "code",
   "execution_count": 17,
   "id": "bbf08740",
   "metadata": {},
   "outputs": [],
   "source": [
    "import numpy as np"
   ]
  },
  {
   "cell_type": "code",
   "execution_count": 18,
   "id": "5bc41959",
   "metadata": {},
   "outputs": [],
   "source": [
    "from numpy import genfromtxt"
   ]
  },
  {
   "cell_type": "code",
   "execution_count": 19,
   "id": "7f661d67",
   "metadata": {},
   "outputs": [],
   "source": [
    "fpath = r\"C:\\Users\\HP\\Downloads\\tipsf.csv\""
   ]
  },
  {
   "cell_type": "code",
   "execution_count": 20,
   "id": "fbf1dfc7",
   "metadata": {},
   "outputs": [
    {
     "data": {
      "text/plain": [
       "array([[  0.  ,  16.99,   1.01, ...,   1.  ,   0.  ,   2.  ],\n",
       "       [  1.  ,  10.34,   1.66, ...,   1.  ,   0.  ,   3.  ],\n",
       "       [  2.  ,  21.01,   3.5 , ...,   1.  ,   0.  ,   3.  ],\n",
       "       ...,\n",
       "       [241.  ,  22.67,   2.  , ...,   0.  ,   0.  ,   2.  ],\n",
       "       [242.  ,  17.82,   1.75, ...,   0.  ,   0.  ,   2.  ],\n",
       "       [243.  ,  18.78,   3.  , ...,   2.  ,   0.  ,   2.  ]])"
      ]
     },
     "execution_count": 20,
     "metadata": {},
     "output_type": "execute_result"
    }
   ],
   "source": [
    "data = genfromtxt(fpath, delimiter=',', skip_header = True)\n",
    "\n",
    "data"
   ]
  },
  {
   "cell_type": "code",
   "execution_count": null,
   "id": "917ef1a8",
   "metadata": {},
   "outputs": [],
   "source": []
  },
  {
   "cell_type": "markdown",
   "id": "0bd9d653",
   "metadata": {},
   "source": [
    "## 1.) What is the total bill ?"
   ]
  },
  {
   "cell_type": "code",
   "execution_count": 24,
   "id": "7402a63d",
   "metadata": {},
   "outputs": [
    {
     "data": {
      "text/plain": [
       "4827.77"
      ]
     },
     "execution_count": 24,
     "metadata": {},
     "output_type": "execute_result"
    }
   ],
   "source": [
    "#total bill\n",
    "np.sum(data[:,1])"
   ]
  },
  {
   "cell_type": "markdown",
   "id": "2d289ba2",
   "metadata": {},
   "source": [
    "## 2. what is the total tip value ?"
   ]
  },
  {
   "cell_type": "code",
   "execution_count": 25,
   "id": "3e781775",
   "metadata": {},
   "outputs": [
    {
     "data": {
      "text/plain": [
       "731.5799999999999"
      ]
     },
     "execution_count": 25,
     "metadata": {},
     "output_type": "execute_result"
    }
   ],
   "source": [
    "# total tip\n",
    "np.sum(data[:,2])"
   ]
  },
  {
   "cell_type": "markdown",
   "id": "3b609158",
   "metadata": {},
   "source": [
    "## 3. count how many sun,sat,thur,fri are there ?"
   ]
  },
  {
   "cell_type": "code",
   "execution_count": 26,
   "id": "9843c799",
   "metadata": {},
   "outputs": [
    {
     "data": {
      "text/plain": [
       "(array([0., 1., 2., 3.]), array([87, 76, 62, 19], dtype=int64))"
      ]
     },
     "execution_count": 26,
     "metadata": {},
     "output_type": "execute_result"
    }
   ],
   "source": [
    "# total days by day\n",
    "np.unique(data[:,5], return_counts=True)"
   ]
  },
  {
   "cell_type": "markdown",
   "id": "0bf3a2d9",
   "metadata": {},
   "source": [
    "## 4. how many smokers are there ?"
   ]
  },
  {
   "cell_type": "code",
   "execution_count": 27,
   "id": "b91a63e2",
   "metadata": {},
   "outputs": [
    {
     "data": {
      "text/plain": [
       "93.0"
      ]
     },
     "execution_count": 27,
     "metadata": {},
     "output_type": "execute_result"
    }
   ],
   "source": [
    "np.sum(data[:,4])"
   ]
  },
  {
   "cell_type": "markdown",
   "id": "6bc060dd",
   "metadata": {},
   "source": [
    "## 5. what is the average tip given by female and male ?"
   ]
  },
  {
   "cell_type": "code",
   "execution_count": 28,
   "id": "0a1e6063",
   "metadata": {},
   "outputs": [
    {
     "name": "stdout",
     "output_type": "stream",
     "text": [
      "Average tip by males: 2.8334482758620685\n",
      "Average tip by females: 3.0896178343949043\n"
     ]
    }
   ],
   "source": [
    "tip = data[:, 2]\n",
    "sex = data[:, 3]\n",
    "\n",
    "tip_male = np.mean(tip[sex == 0])\n",
    "tip_female = np.mean(tip[sex == 1])\n",
    "\n",
    "print(\"Average tip by males:\", tip_male)\n",
    "print(\"Average tip by females:\", tip_female)"
   ]
  },
  {
   "cell_type": "markdown",
   "id": "0e61770a",
   "metadata": {},
   "source": [
    "## 6. how much amount have been spent by female and male ?"
   ]
  },
  {
   "cell_type": "code",
   "execution_count": 29,
   "id": "9d417892",
   "metadata": {},
   "outputs": [
    {
     "name": "stdout",
     "output_type": "stream",
     "text": [
      "Amount spent by males: 1570.9499999999996\n",
      "Amount spent by females: 3256.8199999999997\n"
     ]
    }
   ],
   "source": [
    "total_bill = data[:, 1]\n",
    "sex = data[:, 3]\n",
    "\n",
    "total_bill_male = np.sum(total_bill[sex == 0])\n",
    "total_bill_female = np.sum(total_bill[sex == 1])\n",
    "\n",
    "print(\"Amount spent by males:\", total_bill_male)\n",
    "print(\"Amount spent by females:\", total_bill_female)"
   ]
  },
  {
   "cell_type": "markdown",
   "id": "54c33b1d",
   "metadata": {},
   "source": [
    "## 7. what is the min, and max tip given ?"
   ]
  },
  {
   "cell_type": "code",
   "execution_count": 30,
   "id": "69450ae0",
   "metadata": {},
   "outputs": [
    {
     "name": "stdout",
     "output_type": "stream",
     "text": [
      "Minimum tip :  1.0\n",
      "Maximum tip :  10.0\n"
     ]
    }
   ],
   "source": [
    "tip = data[:, 2]\n",
    "\n",
    "print(\"Minimum tip : \",np.min(tip))\n",
    "print(\"Maximum tip : \",np.max(tip))"
   ]
  },
  {
   "cell_type": "markdown",
   "id": "90e82999",
   "metadata": {},
   "source": [
    "## 8. how many male and female are going for lunch and dinner ?"
   ]
  },
  {
   "cell_type": "code",
   "execution_count": 31,
   "id": "ebb37e70",
   "metadata": {},
   "outputs": [
    {
     "name": "stdout",
     "output_type": "stream",
     "text": [
      "No of male lunch: 35\n",
      "No of female lunch: 33\n",
      "No of male Dinner: 52\n",
      "No of female Dinner: 124\n"
     ]
    }
   ],
   "source": [
    "sex = data[:,3]\n",
    "time = data[:,6]\n",
    "\n",
    "male_lunch = np.sum((sex == 0) & (time == 1))\n",
    "male_dinner = np.sum((sex == 0) & (time == 0))\n",
    "female_lunch = np.sum((sex == 1) & (time == 1))\n",
    "female_dinner = np.sum((sex == 1) & (time == 0))\n",
    "\n",
    "print(\"No of male lunch:\", male_lunch )\n",
    "print(\"No of female lunch:\",female_lunch)\n",
    "print(\"No of male Dinner:\", male_dinner )\n",
    "print(\"No of female Dinner:\",female_dinner)"
   ]
  },
  {
   "cell_type": "markdown",
   "id": "f297293e",
   "metadata": {},
   "source": [
    "## 9. find out the average size ?"
   ]
  },
  {
   "cell_type": "code",
   "execution_count": 32,
   "id": "6260a880",
   "metadata": {},
   "outputs": [
    {
     "data": {
      "text/plain": [
       "2.569672131147541"
      ]
     },
     "execution_count": 32,
     "metadata": {},
     "output_type": "execute_result"
    }
   ],
   "source": [
    "np.mean(data[:,7])"
   ]
  },
  {
   "cell_type": "markdown",
   "id": "fa5d1080",
   "metadata": {},
   "source": [
    "## 10. how many female smokers and male smokers are there ?"
   ]
  },
  {
   "cell_type": "code",
   "execution_count": 33,
   "id": "7950b79a",
   "metadata": {},
   "outputs": [
    {
     "name": "stdout",
     "output_type": "stream",
     "text": [
      "Number of male smokers :  33.0 \n",
      "Number of male smokers :  60.0\n"
     ]
    }
   ],
   "source": [
    "sex = 3\n",
    "smoker = 4\n",
    "\n",
    "a = np.sum(data[:,4][(data[:, sex] == 0) & (data[:, smoker] == 1)])\n",
    "b = np.sum(data[:,3][(data[:, sex] == 1) & (data[:, smoker] == 1)])\n",
    "\n",
    "print(\"Number of male smokers : \",a,\"\\nNumber of male smokers : \",b)"
   ]
  },
  {
   "cell_type": "code",
   "execution_count": null,
   "id": "2f9dec02",
   "metadata": {},
   "outputs": [],
   "source": []
  },
  {
   "cell_type": "code",
   "execution_count": null,
   "id": "92adeb00",
   "metadata": {},
   "outputs": [],
   "source": []
  },
  {
   "cell_type": "code",
   "execution_count": null,
   "id": "c8a1d9df",
   "metadata": {},
   "outputs": [],
   "source": []
  },
  {
   "cell_type": "code",
   "execution_count": null,
   "id": "5ed6df93",
   "metadata": {},
   "outputs": [],
   "source": []
  },
  {
   "cell_type": "code",
   "execution_count": null,
   "id": "4aeb05da",
   "metadata": {},
   "outputs": [],
   "source": []
  }
 ],
 "metadata": {
  "kernelspec": {
   "display_name": "Python 3 (ipykernel)",
   "language": "python",
   "name": "python3"
  },
  "language_info": {
   "codemirror_mode": {
    "name": "ipython",
    "version": 3
   },
   "file_extension": ".py",
   "mimetype": "text/x-python",
   "name": "python",
   "nbconvert_exporter": "python",
   "pygments_lexer": "ipython3",
   "version": "3.11.5"
  }
 },
 "nbformat": 4,
 "nbformat_minor": 5
}
